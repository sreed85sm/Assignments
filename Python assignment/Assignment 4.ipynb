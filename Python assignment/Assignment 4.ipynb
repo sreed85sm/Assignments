{
 "cells": [
  {
   "cell_type": "markdown",
   "id": "63056f62",
   "metadata": {},
   "source": [
    "### Python Assignment 4\n",
    "\n"
   ]
  },
  {
   "cell_type": "code",
   "execution_count": null,
   "id": "cf2261c7",
   "metadata": {},
   "outputs": [],
   "source": [
    "1. What exactly is []?\n",
    "\n",
    "Index brackets ([]) have many uses in Python. First, they are used to define \"list literals,\" allowing you to declare a list and its contents in your program. \n",
    "Index brackets are also used to write expressions that evaluate to a single item within a list, or a single character in a string.\n",
    "Negative numbers inside of index brackets cause Python to start counting from the end of the sequence, instead of from the beginning.\n",
    "Finally, index brackets are used to retrieve or set the value for a given key in a dictionary. For example, the expression x[a] evaluates to whatever the value for key a is in dictionary x. The statement x[a] = b will set the value for key a in dictionary x to a new value b (overwriting any existing value).\n"
   ]
  },
  {
   "cell_type": "code",
   "execution_count": null,
   "id": "3fe3a41a",
   "metadata": {},
   "outputs": [],
   "source": [
    "2. In a list of values stored in a variable called spam, how would you assign the value 'hello' as the\n",
    "third value? (Assume [2, 4, 6, 8, 10] are in spam.)"
   ]
  },
  {
   "cell_type": "code",
   "execution_count": 74,
   "id": "c7f95d5a",
   "metadata": {},
   "outputs": [
    {
     "name": "stdout",
     "output_type": "stream",
     "text": [
      "[2, 4, 'hello', 8, 10]\n"
     ]
    }
   ],
   "source": [
    "spam=[2,4,6,8,10]\n",
    "spam[2]='hello'\n",
    "print(spam)\n"
   ]
  },
  {
   "cell_type": "code",
   "execution_count": 75,
   "id": "a22f04ed",
   "metadata": {},
   "outputs": [],
   "source": [
    "# Let's pretend the spam includes the list ['a','b','c','d'] for the next three queries."
   ]
  },
  {
   "cell_type": "code",
   "execution_count": 76,
   "id": "da39fbc2",
   "metadata": {},
   "outputs": [
    {
     "data": {
      "text/plain": [
       "3"
      ]
     },
     "execution_count": 76,
     "metadata": {},
     "output_type": "execute_result"
    }
   ],
   "source": [
    "#3. What is the value of spam[int(int('3' * 2) / 11)]?\n",
    "spam=['a','b','c','d']\n",
    "\n",
    "'3'*2                  # output '33'\n",
    "int('3'*2)             # output 33\n",
    "int('3'*2)/11          # output 3.0\n",
    "int(int('3'*2)/11)     # output 3"
   ]
  },
  {
   "cell_type": "code",
   "execution_count": 77,
   "id": "111fa312",
   "metadata": {},
   "outputs": [
    {
     "data": {
      "text/plain": [
       "'d'"
      ]
     },
     "execution_count": 77,
     "metadata": {},
     "output_type": "execute_result"
    }
   ],
   "source": [
    "spam[int(int('3'*2)/11)]\n"
   ]
  },
  {
   "cell_type": "code",
   "execution_count": 78,
   "id": "f39addcf",
   "metadata": {},
   "outputs": [
    {
     "data": {
      "text/plain": [
       "'d'"
      ]
     },
     "execution_count": 78,
     "metadata": {},
     "output_type": "execute_result"
    }
   ],
   "source": [
    "# 4. What is the value of spam[-1]?\n",
    "\n",
    "spam[-1]\n"
   ]
  },
  {
   "cell_type": "code",
   "execution_count": 79,
   "id": "faec8032",
   "metadata": {},
   "outputs": [
    {
     "data": {
      "text/plain": [
       "['a', 'b']"
      ]
     },
     "execution_count": 79,
     "metadata": {},
     "output_type": "execute_result"
    }
   ],
   "source": [
    "#5. What is the value of spam[:2]?\n",
    "spam[:2]"
   ]
  },
  {
   "cell_type": "code",
   "execution_count": 80,
   "id": "588250b8",
   "metadata": {},
   "outputs": [],
   "source": [
    "#Let's pretend bacon has the list [3.14,'cat',11,'cat', True] for the next three questions.\n"
   ]
  },
  {
   "cell_type": "code",
   "execution_count": 81,
   "id": "eac8c845",
   "metadata": {},
   "outputs": [
    {
     "data": {
      "text/plain": [
       "1"
      ]
     },
     "execution_count": 81,
     "metadata": {},
     "output_type": "execute_result"
    }
   ],
   "source": [
    "#6. What is the value of bacon.index('cat')?\n",
    "bacon =[3.14,'cat',11,'cat', True]\n",
    "bacon.index('cat')"
   ]
  },
  {
   "cell_type": "code",
   "execution_count": 82,
   "id": "7bd203ad",
   "metadata": {},
   "outputs": [
    {
     "data": {
      "text/plain": [
       "[3.14, 'cat', 11, 'cat', True, 99]"
      ]
     },
     "execution_count": 82,
     "metadata": {},
     "output_type": "execute_result"
    }
   ],
   "source": [
    "#7. How does bacon.append(99) change the look of the list value in bacon?\n",
    "bacon.append(99)\n",
    "bacon"
   ]
  },
  {
   "cell_type": "code",
   "execution_count": 83,
   "id": "6515a798",
   "metadata": {},
   "outputs": [
    {
     "data": {
      "text/plain": [
       "[3.14, 11, 'cat', True, 99]"
      ]
     },
     "execution_count": 83,
     "metadata": {},
     "output_type": "execute_result"
    }
   ],
   "source": [
    "#8. How does bacon.remove('cat') change the look of the list in bacon?\n",
    "bacon.remove('cat')\n",
    "bacon"
   ]
  },
  {
   "cell_type": "code",
   "execution_count": null,
   "id": "62d38226",
   "metadata": {},
   "outputs": [],
   "source": [
    "9. What are the list concatenation and list replication operators?\n",
    "\n",
    "When + appears between two lists, the expression will be evaluated as a new list that contains the elements from both lists. The elements in the list on the left of + will appear first, and the elements on the right will appear last.\n",
    "\n",
    "When * appears between a list and an integer, the expression will be evaluated as a new list that consists of several copies of the original list concatenated together. The number of copies is set by the integer."
   ]
  },
  {
   "cell_type": "code",
   "execution_count": 84,
   "id": "0b7de33c",
   "metadata": {},
   "outputs": [
    {
     "data": {
      "text/plain": [
       "[5, 10, 15, 20, 20, 22, 24, 26]"
      ]
     },
     "execution_count": 84,
     "metadata": {},
     "output_type": "execute_result"
    }
   ],
   "source": [
    "#list concatenation\n",
    "ls1=[5,10,15,20]\n",
    "ls2=[20,22,24,26]\n",
    "ls1+ls2"
   ]
  },
  {
   "cell_type": "code",
   "execution_count": 85,
   "id": "69710350",
   "metadata": {},
   "outputs": [
    {
     "data": {
      "text/plain": [
       "[5, 10, 15, 20]"
      ]
     },
     "execution_count": 85,
     "metadata": {},
     "output_type": "execute_result"
    }
   ],
   "source": [
    "ls1"
   ]
  },
  {
   "cell_type": "code",
   "execution_count": 86,
   "id": "87f030aa",
   "metadata": {},
   "outputs": [
    {
     "data": {
      "text/plain": [
       "[20, 22, 24, 26]"
      ]
     },
     "execution_count": 86,
     "metadata": {},
     "output_type": "execute_result"
    }
   ],
   "source": [
    "ls2                     # no change in actual list"
   ]
  },
  {
   "cell_type": "code",
   "execution_count": 87,
   "id": "ff1f0291",
   "metadata": {},
   "outputs": [
    {
     "data": {
      "text/plain": [
       "[5, 10, 15, 20, 5, 10, 15, 20]"
      ]
     },
     "execution_count": 87,
     "metadata": {},
     "output_type": "execute_result"
    }
   ],
   "source": [
    "# list replication\n",
    "ls1*2"
   ]
  },
  {
   "cell_type": "code",
   "execution_count": 88,
   "id": "38b3e7bb",
   "metadata": {},
   "outputs": [
    {
     "data": {
      "text/plain": [
       "[5, 10, 15, 20]"
      ]
     },
     "execution_count": 88,
     "metadata": {},
     "output_type": "execute_result"
    }
   ],
   "source": [
    "ls1                      # no change in actual list"
   ]
  },
  {
   "cell_type": "code",
   "execution_count": 89,
   "id": "27d03331",
   "metadata": {},
   "outputs": [],
   "source": [
    "lst1=[1,2,3,4]\n",
    "lst2=[5,6,7,4]\n",
    "lst1.extend(lst2)"
   ]
  },
  {
   "cell_type": "code",
   "execution_count": 90,
   "id": "3e01aec3",
   "metadata": {},
   "outputs": [
    {
     "data": {
      "text/plain": [
       "[1, 2, 3, 4, 5, 6, 7, 4]"
      ]
     },
     "execution_count": 90,
     "metadata": {},
     "output_type": "execute_result"
    }
   ],
   "source": [
    "lst1                         # actual list updated after using extend"
   ]
  },
  {
   "cell_type": "code",
   "execution_count": null,
   "id": "348573f4",
   "metadata": {},
   "outputs": [],
   "source": [
    "#10. What is difference between the list methods append() and insert()?\n",
    "\n",
    "The insert() list method allows us to add elements to a list at a specified position. Any elements whose previous indices were greater than or equal to the index of the newly inserted element will be pushed back one position.\n",
    "\n",
    "The append() method is similar to insert(), except that no position is specified. Appended elements are always added to the end of the list"
   ]
  },
  {
   "cell_type": "code",
   "execution_count": 91,
   "id": "189dfb04",
   "metadata": {},
   "outputs": [
    {
     "name": "stdout",
     "output_type": "stream",
     "text": [
      "['apple', 'plum', 'orange', 'lemon', 'grape', 'peach']\n"
     ]
    }
   ],
   "source": [
    "# Insert plum as the second element of the list.\n",
    "Fruit=['apple', 'orange', 'lemon', 'grape', 'peach']\n",
    "Fruit.insert(1, 'plum')\n",
    "print(Fruit)"
   ]
  },
  {
   "cell_type": "code",
   "execution_count": 92,
   "id": "4b534710",
   "metadata": {},
   "outputs": [
    {
     "name": "stdout",
     "output_type": "stream",
     "text": [
      "['apple', 'plum', 'orange', 'lemon', 'grape', 'peach', 'strawberry', 'raspberry']\n"
     ]
    }
   ],
   "source": [
    "# Add strawberry and raspberry to the end of the Fruit list.\n",
    "Fruit.append('strawberry')\n",
    "Fruit.append('raspberry')\n",
    "print(Fruit)"
   ]
  },
  {
   "cell_type": "code",
   "execution_count": null,
   "id": "b1e6fdc1",
   "metadata": {},
   "outputs": [],
   "source": [
    "#11. What are the two methods for removing items from a list?\n",
    "use the del keyword to delete the element of a list at a certain index.\n",
    "The remove() method will search through a list and remove the first element that matches the supplied argument.\n",
    "If there are multiple elements equal to the given argument, only the one with the lowest index will be deleted.\n",
    "\n"
   ]
  },
  {
   "cell_type": "code",
   "execution_count": 93,
   "id": "a40ba1f1",
   "metadata": {},
   "outputs": [
    {
     "name": "stdout",
     "output_type": "stream",
     "text": [
      "['apple', 'plum', 'lemon', 'grape', 'peach', 'strawberry', 'raspberry']\n"
     ]
    }
   ],
   "source": [
    "# Delete the third element of the Fruit list.\n",
    "del Fruit[2]\n",
    "print(Fruit)"
   ]
  },
  {
   "cell_type": "code",
   "execution_count": 94,
   "id": "066d632c",
   "metadata": {},
   "outputs": [
    {
     "name": "stdout",
     "output_type": "stream",
     "text": [
      "['apple', 'plum', 'lemon', 'grape', 'strawberry', 'raspberry']\n"
     ]
    }
   ],
   "source": [
    "# Remove the first instance of peach from the list.\n",
    "Fruit.remove('peach')\n",
    "print(Fruit)"
   ]
  },
  {
   "cell_type": "code",
   "execution_count": null,
   "id": "f75c2040",
   "metadata": {},
   "outputs": [],
   "source": [
    "# 12. Describe how list values and string values are identical.\n",
    "\n",
    "The similarity between Lists and Strings in Python is that both are sequences. A string is a sequence of characters between single or double quotes. A list is a sequence of items, where each item could be anything (an integer, a float, a string, etc).\n",
    "Both strings and lists have lengths: a string's length is the number of characters in the string; a list's length is the number of items in the list.\n",
    "Each character in a string as well as each item in a list has a position, also called an index.You can access individual characters in a string, or items in a list, using square-bracket indexing\n"
   ]
  },
  {
   "cell_type": "code",
   "execution_count": null,
   "id": "7ba95088",
   "metadata": {},
   "outputs": [],
   "source": [
    "# 13. Whats the difference between tuples and lists?\n",
    "In many ways, lists and tuples behave very similarly. Elements of a tuple each have an index, and are accessed in the same way as in a list. \n",
    "The fundamental distinction between the two data types is that tuples are immutable, meaning that once a tuple is created, it’s contents cannot be altered.\n",
    "Syntactically, a tuple is define much in the same way as a list, except that parentheses () are used to define a tuple in place of the square brackets [] that are used for a list."
   ]
  },
  {
   "cell_type": "code",
   "execution_count": 95,
   "id": "a2fc5a53",
   "metadata": {},
   "outputs": [
    {
     "name": "stdout",
     "output_type": "stream",
     "text": [
      "42\n"
     ]
    }
   ],
   "source": [
    "my_tuple = (159, 348, 214, 381, 194)\n",
    "#14. How do you type a tuple value that only contains the integer 42?\n",
    "my_tuple=(42)\n",
    "print(my_tuple)"
   ]
  },
  {
   "cell_type": "code",
   "execution_count": null,
   "id": "2df921f6",
   "metadata": {},
   "outputs": [],
   "source": [
    "#15. How do you get a list value's tuple form? How do you get a tuple value's list form?\n",
    "Use the built-in Python tuple() function to convert a list into a tuple. \n",
    "The list() function is the easiest way to convert a tuple into a list."
   ]
  },
  {
   "cell_type": "code",
   "execution_count": 96,
   "id": "320cf4d5",
   "metadata": {},
   "outputs": [
    {
     "name": "stdout",
     "output_type": "stream",
     "text": [
      "[1, 2, 3, 4]\n",
      "(1, 2, 3, 4)\n",
      "tuple to list\n",
      "(159, 348, 214, 381, 194, 159)\n",
      "[159, 348, 214, 381, 194, 159]\n"
     ]
    }
   ],
   "source": [
    "lst=[1,2,3,4]\n",
    "print(lst)\n",
    "lst_totuple=tuple(lst)\n",
    "print(lst_totuple)\n",
    "print(\"tuple to list\")\n",
    "my_tuple = (159, 348, 214, 381, 194,159)\n",
    "print(my_tuple)\n",
    "tup_tolist=list(my_tuple)\n",
    "print(tup_tolist)"
   ]
  },
  {
   "cell_type": "code",
   "execution_count": 62,
   "id": "8b950896",
   "metadata": {},
   "outputs": [],
   "source": [
    "#16. Variables that \"contain\" list values are not necessarily lists themselves. Instead, what do they contain?\n",
    "Variables will contain references to list values rather than list values themselves. But for strings and integer values, variables simply contain the string or integer value. Python uses references whenever variables must store values of mutable data types, such as lists or dictionaries. For values of immutable data types such as strings, integers, or tuples, Python variables will store the value itself."
   ]
  },
  {
   "cell_type": "code",
   "execution_count": 97,
   "id": "5946dd52",
   "metadata": {},
   "outputs": [
    {
     "name": "stdout",
     "output_type": "stream",
     "text": [
      "[1, 2, 3, 'Hello']\n"
     ]
    }
   ],
   "source": [
    "\n",
    "def eggs(someParameter):\n",
    "    someParameter.append('Hello')\n",
    "\n",
    "spam = [1, 2, 3]\n",
    "eggs(spam)\n",
    "print(spam)     #Even though spam and someParameter contain separate references, they both refer to the same list. This is why the append('Hello') method call inside the function affects the list even after the function call has returned."
   ]
  },
  {
   "cell_type": "code",
   "execution_count": null,
   "id": "1b99eb53",
   "metadata": {},
   "outputs": [],
   "source": [
    "#17. How do you distinguish between copy.copy() and copy.deepcopy()?\n",
    "On passing around reference,if the function modifies the list or dictionary that is passed, sometimes you may not want these changes in the original list or dictionary value. For this, Python provides a module named copy that provides both the copy() and deepcopy() functions. \n",
    "The first of these, copy.copy(), can be used to make a duplicate copy of a mutable value like a list or dictionary, not just a copy of a reference.\n",
    "If the list you need to copy contains lists, then use the copy.deepcopy() function instead of copy.copy(). The deepcopy() function will copy these inner lists as well."
   ]
  },
  {
   "cell_type": "code",
   "execution_count": 98,
   "id": "dd21853e",
   "metadata": {},
   "outputs": [
    {
     "name": "stdout",
     "output_type": "stream",
     "text": [
      "['A', 42, 'C', 'D']\n",
      "['A', 'B', 'C', 'D']\n"
     ]
    }
   ],
   "source": [
    "import copy\n",
    "spam = ['A', 'B', 'C', 'D']\n",
    "cheese = copy.copy(spam)  #Now the spam and cheese variables refer to separate lists,\n",
    "cheese[1] = 42\n",
    "print(cheese)\n",
    "print(spam)           # only the list in cheese is modified when you assign 42 at index 1."
   ]
  },
  {
   "cell_type": "code",
   "execution_count": 99,
   "id": "71398092",
   "metadata": {},
   "outputs": [
    {
     "name": "stdout",
     "output_type": "stream",
     "text": [
      "[1, 2, 3, [20, 22, 24]]\n",
      "[1, 2, 3, [20, 42, 24]]\n"
     ]
    }
   ],
   "source": [
    "dlst1=[1,2,3,[20,22,24]]\n",
    "dlst2=copy.deepcopy(dlst1)\n",
    "dlst2[3][1]=42\n",
    "print(dlst1)\n",
    "print(dlst2)"
   ]
  },
  {
   "cell_type": "code",
   "execution_count": null,
   "id": "e798e90c",
   "metadata": {},
   "outputs": [],
   "source": []
  }
 ],
 "metadata": {
  "kernelspec": {
   "display_name": "Python 3 (ipykernel)",
   "language": "python",
   "name": "python3"
  },
  "language_info": {
   "codemirror_mode": {
    "name": "ipython",
    "version": 3
   },
   "file_extension": ".py",
   "mimetype": "text/x-python",
   "name": "python",
   "nbconvert_exporter": "python",
   "pygments_lexer": "ipython3",
   "version": "3.9.13"
  }
 },
 "nbformat": 4,
 "nbformat_minor": 5
}
