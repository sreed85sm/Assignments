{
 "cells": [
  {
   "cell_type": "code",
   "execution_count": null,
   "id": "92b1408f",
   "metadata": {},
   "outputs": [],
   "source": [
    "1. Why are functions advantageous to have in your programs?\n",
    "2. When does the code in a function run: when it&#39;s specified or when it&#39;s called?\n",
    "3. What statement creates a function?\n",
    "4. What is the difference between a function and a function call?\n",
    "5. How many global scopes are there in a Python program? How many local scopes?\n",
    "6. What happens to variables in a local scope when the function call returns?\n",
    "7. What is the concept of a return value? Is it possible to have a return value in an expression?\n",
    "8. If a function does not have a return statement, what is the return value of a call to that function?\n",
    "9. How do you make a function variable refer to the global variable?\n",
    "10. What is the data type of None?\n",
    "11. What does the sentence import areallyourpetsnamederic do?\n",
    "12. If you had a bacon() feature in a spam module, what would you call it after importing spam?\n",
    "13. What can you do to save a programme from crashing if it encounters an error?\n",
    "14. What is the purpose of the try clause? What is the purpose of the except clause?"
   ]
  },
  {
   "cell_type": "code",
   "execution_count": null,
   "id": "0f50e7a9",
   "metadata": {},
   "outputs": [],
   "source": [
    "1. Why are functions advantageous to have in your programs?\n",
    "\n",
    "A function is a block of code that performs a specific task when the function is called (invoked). You can use functions to make your code reusable, better organized, and more readable.\n",
    "\n",
    "\n",
    "2. When does the code in a function run: when its specified or when it is called?\n",
    "    when we invoke a function, Python remembers the place where it happened and jumps into the invoked function and the body of the function is then executed.\n",
    "    \n",
    "3. What statement creates a function?    \n",
    "   You need to define it. \n",
    "    \n",
    "def function_name():\n",
    "    function_body\n",
    "\n",
    "4. What is the difference between a function and a function call?\n",
    "A function is a block of code that performs a specific task when the function is called (invoked). It means that piece of code need not be written again. A function call means invoking or calling that function. Unless a function is called there is no use of that function.\n",
    "\n",
    "\n",
    "5. How many global scopes are there in a Python program? How many local scopes?\n",
    "There's only one global Python scope per program execution. This scope remains in existence until the program terminates and all its names are forgotten. Otherwise, the next time you were to run the program, the names would remember their values from the previous run.\n",
    "Every time you call a function, you’re also creating a new local scope.\n",
    "\n",
    "\n",
    "6. What happens to variables in a local scope when the function call returns?\n",
    "By default, parameters and names that you assign inside a function exist only within the function or local scope associated with the function call. When the function returns, the local scope is destroyed and the names are forgotten. \n",
    "\n",
    "\n",
    "7. What is the concept of a return value? Is it possible to have a return value in an expression?\n",
    "\n",
    "A return statement is a special statement that can use inside a function or method to send the function’s result back to the caller. \n",
    "A return statement consists of the return keyword followed by an optional return value.If you define a function with an explicit return statement that has an explicit return value, then you can use that return value in any expression.\n",
    "\n",
    "\n",
    "8. If a function does not have a return statement, what is the return value of a call to that function?\n",
    "None\n",
    "\n",
    "\n",
    "9. How do you make a function variable refer to the global variable?\n",
    "Normally, when you create a variable inside a function, that variable is local, and can only be used inside that function. To create a global variable inside a function, you can use the global keyword.\n",
    "\n",
    "10. What is the data type of None?\n",
    "NoneType \n",
    "\n",
    "The None keyword in Python is a data type and an object of the NoneType class. The None keyword is used for defining a null variable or an object in Python.\n",
    "\n",
    "11. What does the sentence import areallyourpetsnamederic do?\n",
    "\n",
    "The import statement import a module named areallyourpetsnamederic\n",
    "\n",
    "\n",
    "12. If you had a bacon() feature in a spam module, what would you call it after importing spam?\n",
    "spam.bacon()\n",
    "\n",
    "\n",
    "13. What can you do to save a programme from crashing if it encounters an error?\n",
    "In Python, we use the try and except statements to handle exceptions. Whenever the code breaks down, an exception is thrown without crashing the program.Python would process all code inside the try and except statement. When it encounters an error, the control is passed to the except block, skipping the code in between.\n",
    "\n",
    "\n",
    "14. What is the purpose of the try clause? What is the purpose of the except clause?\n",
    "we use the try and except statements to handle exceptions.Exceptions are errors that happen during execution of the program. Python won’t tell you about errors like syntax errors (grammar faults), instead it will abruptly stop.\n",
    "\n",
    "try: the code with the exception(s) to catch. If an exception is raised, it jumps straight into the except block.\n",
    "except: this code is only executed if an exception occured in the try block. The except block is required with a try block, even if it contains only the pass statement."
   ]
  },
  {
   "cell_type": "code",
   "execution_count": null,
   "id": "5030139c",
   "metadata": {},
   "outputs": [],
   "source": []
  },
  {
   "cell_type": "code",
   "execution_count": null,
   "id": "0a154e3f",
   "metadata": {},
   "outputs": [],
   "source": []
  },
  {
   "cell_type": "code",
   "execution_count": null,
   "id": "09bad1e9",
   "metadata": {},
   "outputs": [],
   "source": []
  },
  {
   "cell_type": "code",
   "execution_count": null,
   "id": "5bad5e32",
   "metadata": {},
   "outputs": [],
   "source": []
  },
  {
   "cell_type": "code",
   "execution_count": null,
   "id": "eb59cba2",
   "metadata": {},
   "outputs": [],
   "source": []
  },
  {
   "cell_type": "code",
   "execution_count": null,
   "id": "ba15e535",
   "metadata": {},
   "outputs": [],
   "source": []
  },
  {
   "cell_type": "code",
   "execution_count": null,
   "id": "fa725c06",
   "metadata": {},
   "outputs": [],
   "source": []
  },
  {
   "cell_type": "code",
   "execution_count": null,
   "id": "5f05ef11",
   "metadata": {},
   "outputs": [],
   "source": []
  }
 ],
 "metadata": {
  "kernelspec": {
   "display_name": "Python 3 (ipykernel)",
   "language": "python",
   "name": "python3"
  },
  "language_info": {
   "codemirror_mode": {
    "name": "ipython",
    "version": 3
   },
   "file_extension": ".py",
   "mimetype": "text/x-python",
   "name": "python",
   "nbconvert_exporter": "python",
   "pygments_lexer": "ipython3",
   "version": "3.9.13"
  }
 },
 "nbformat": 4,
 "nbformat_minor": 5
}
