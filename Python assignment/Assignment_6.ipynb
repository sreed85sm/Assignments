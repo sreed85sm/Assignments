{
 "cells": [
  {
   "cell_type": "markdown",
   "id": "904d9a1e",
   "metadata": {},
   "source": [
    "\n",
    "### Assignment 6\n"
   ]
  },
  {
   "cell_type": "code",
   "execution_count": null,
   "id": "dbf9b4a8",
   "metadata": {},
   "outputs": [],
   "source": [
    "1. What are escape characters, and how do you use them?\n",
    "In Python strings, the backslash “\\” is a special character, also called the “escape” character. It is used in representing certain whitespace characters: “\\t” is a tab, “\\n” is a new line, and “\\r” is a carriage return. Finally, “ \\” can be used to escape itself: “\\\\” is the literal backslash character.\n",
    "\n",
    "2. What do the escape characters n and t stand for?\n",
    "“\\t” is a tab, “\\n” is a new line,\n",
    "\n",
    "3. What is the way to include backslash characters in a string? \n",
    "“\\\\” is the literal backslash character.\n",
    "\n",
    "4. The string \"Howl's Moving Castle\" is a correct value. Why isn't the single quote character in the word Howl's not escaped a problem?\n",
    "Because it is used inside the double quotes to mark the beginning and end of string.\n",
    "\n",
    "5. How do you write a string of newlines if you don't want to use the n character?\n",
    "Multiline strings allow to use newlines in string without using \\n\n",
    "print(\"apple\")\n",
    "print(\"boy\")\n",
    "\n",
    "\n",
    "6. What are the values of the given expressions?\n",
    "'Hello, world!'[1]       #  'e'\n",
    "'Hello, world!'[0:5]     # 'Hello'\n",
    "'Hello, world!'[:5]      # 'Hello'\n",
    "'Hello, world!'[3:]      # 'lo, world!'\n",
    "\n",
    "\n",
    "7. What are the values of the following expressions?\n",
    "'Hello'.upper()                # 'HELLO'\n",
    "'Hello'.upper().isupper()      # True\n",
    "'Hello'.upper().lower()        # 'hello'\n",
    "\n",
    "\n",
    "8. What are the values of the following expressions?\n",
    "'Remember, remember, the fifth of July.'.split()          #   ['Remember,', 'remember,', 'the', 'fifth', 'of', 'July.']\n",
    "'-'.join('There can only one.'.split())                   # 'There-can-only-one.'\n",
    "\n",
    "\n"
   ]
  },
  {
   "cell_type": "code",
   "execution_count": null,
   "id": "24075b14",
   "metadata": {},
   "outputs": [],
   "source": [
    "9. What are the methods for right-justifying, left-justifying, and centering a string?\n",
    "\n",
    "str.ljust( width, fillchar)\n",
    "str.rjust( width, fillchar)\n",
    "str.center( width, fillchar)\n"
   ]
  },
  {
   "cell_type": "code",
   "execution_count": 20,
   "id": "bbba9fb6",
   "metadata": {},
   "outputs": [
    {
     "name": "stdout",
     "output_type": "stream",
     "text": [
      "Hello World\n",
      "              Hello World               \n",
      "##############Hello World###############\n",
      "Hello World#############################\n",
      "#############################Hello World\n"
     ]
    }
   ],
   "source": [
    "str=\"Hello World\"\n",
    "print(str)\n",
    "print(str.center(40))\n",
    "print(str.center(40,\"#\"))\n",
    "print(str.ljust(40,'#'))\n",
    "print(str.rjust(40,'#'))"
   ]
  },
  {
   "cell_type": "code",
   "execution_count": null,
   "id": "13044078",
   "metadata": {},
   "outputs": [],
   "source": [
    "10. What is the best way to remove whitespace characters from the start or end?\n",
    "Use the .strip() method to remove whitespace and characters from the beginning and the end of a string.\n",
    "Use the . lstrip() method to remove whitespace and characters only from the beginning of a string. \n",
    "Use the . rstrip() method to remove whitespace and characters only from the end of a string."
   ]
  },
  {
   "cell_type": "code",
   "execution_count": 24,
   "id": "becef912",
   "metadata": {},
   "outputs": [
    {
     "name": "stdout",
     "output_type": "stream",
     "text": [
      "  Apprenticed to    \n",
      "Apprenticed to    \n",
      "  Apprenticed to\n"
     ]
    }
   ],
   "source": [
    "s=\"  Apprenticed to    \"\n",
    "print(s)\n",
    "print(s.lstrip())\n",
    "print(s.rstrip())"
   ]
  },
  {
   "cell_type": "code",
   "execution_count": null,
   "id": "a5434077",
   "metadata": {},
   "outputs": [],
   "source": []
  },
  {
   "cell_type": "code",
   "execution_count": null,
   "id": "a347a665",
   "metadata": {},
   "outputs": [],
   "source": []
  },
  {
   "cell_type": "code",
   "execution_count": null,
   "id": "939fab18",
   "metadata": {},
   "outputs": [],
   "source": []
  }
 ],
 "metadata": {
  "kernelspec": {
   "display_name": "Python 3 (ipykernel)",
   "language": "python",
   "name": "python3"
  },
  "language_info": {
   "codemirror_mode": {
    "name": "ipython",
    "version": 3
   },
   "file_extension": ".py",
   "mimetype": "text/x-python",
   "name": "python",
   "nbconvert_exporter": "python",
   "pygments_lexer": "ipython3",
   "version": "3.9.13"
  }
 },
 "nbformat": 4,
 "nbformat_minor": 5
}
