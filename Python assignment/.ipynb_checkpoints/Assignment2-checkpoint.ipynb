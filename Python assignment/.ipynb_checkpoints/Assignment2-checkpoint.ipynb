{
 "cells": [
  {
   "cell_type": "code",
   "execution_count": null,
   "id": "febc4351",
   "metadata": {},
   "outputs": [],
   "source": [
    "1.What are the two values of the Boolean data type? How do you write them?\n",
    "\n",
    "Booleans represent one of two values: True or False. \n",
    "\n",
    "2. What are the three different types of Boolean operators?\n",
    "There are three logical operators that are used to compare values. They evaluate expressions down to Boolean values, returning either True or False . These operators are and , or , and not .\n",
    "\n"
   ]
  },
  {
   "cell_type": "code",
   "execution_count": 1,
   "id": "8c91dd42",
   "metadata": {},
   "outputs": [
    {
     "name": "stdout",
     "output_type": "stream",
     "text": [
      "True\n",
      "True\n",
      "True\n"
     ]
    }
   ],
   "source": [
    "print((9 > 7) and (2 < 4))\t# Both original expressions are True\n",
    "print((8 == 8) or (6 != 6))\t# One original expression is True\n",
    "print(not(3 <= 1)) # The original expression is False"
   ]
  },
  {
   "cell_type": "code",
   "execution_count": null,
   "id": "cc4be385",
   "metadata": {},
   "outputs": [],
   "source": [
    "3. Make a list of each Boolean operator's truth tables (i.e. every possible combination of Boolean values for the operator and what it evaluate ).\n",
    "\n",
    "\n",
    "AND Truth Table\n",
    "x       and   y     Returns\n",
    "True    and True    True\n",
    "True    and False   False\n",
    "False   and True    False\n",
    "False   and False   False\n",
    "\n",
    "OR  Truth Table\n",
    "\n",
    "x       or   y     Returns\n",
    "True    or  True    True\n",
    "True     or  False  True\n",
    "False    or  True   True\n",
    "False    or  False  False\n",
    "\n",
    "\n",
    "NOT  Truth Table\n",
    "not   x     Returns\n",
    "not  True    False\n",
    "not  False   True"
   ]
  },
  {
   "cell_type": "code",
   "execution_count": null,
   "id": "441e5636",
   "metadata": {},
   "outputs": [],
   "source": [
    "4. What are the values of the following expressions?\n",
    "print((5 > 4) and (3 == 5) )   # False\n",
    "print(not (5 > 4))   # False\n",
    "print((5 > 4) or (3 == 5))   # True\n",
    "print(not ((5 > 4) or (3 == 5)))    # False\n",
    "print((True and True) and (True == False))   # False\n",
    "print((not False) or (not True))   # True"
   ]
  },
  {
   "cell_type": "code",
   "execution_count": null,
   "id": "ac4a57a6",
   "metadata": {},
   "outputs": [],
   "source": [
    "5. What are the six comparison operators?\n",
    "\n",
    "== , != , < , > , <= , =>"
   ]
  },
  {
   "cell_type": "code",
   "execution_count": null,
   "id": "46427998",
   "metadata": {},
   "outputs": [],
   "source": [
    "6. How do you tell the difference between the equal to and assignment operators?Describe a condition and when you would use one.\n",
    "The = is a simple assignment operator. It assigns values from right side operands to the left side operand. While on the other hand == checks if the values of two operands are equal or not,  and evaluates to a Boolean.\n",
    "\n"
   ]
  },
  {
   "cell_type": "code",
   "execution_count": 2,
   "id": "587b96ed",
   "metadata": {},
   "outputs": [
    {
     "name": "stdout",
     "output_type": "stream",
     "text": [
      "True\n"
     ]
    }
   ],
   "source": [
    "a=10 #The value 10 will be stored in the integer variable a.\n",
    "if(a==10): #This will check if the value stored in variable a is equal to 10. \n",
    "    print(a==10)"
   ]
  },
  {
   "cell_type": "code",
   "execution_count": null,
   "id": "88b32c7a",
   "metadata": {},
   "outputs": [],
   "source": [
    "7. Identify the three blocks in this code:\n",
    "spam = 0\n",
    "if spam == 10:\n",
    "print('eggs')\n",
    "if spam > 5:\n",
    "print('bacon')\n",
    "else:\n",
    "print('ham')\n",
    "print('spam')\n",
    "print('spam')\n",
    "\n",
    "Python uses indentation to indicate a block of code."
   ]
  },
  {
   "cell_type": "code",
   "execution_count": 3,
   "id": "caca2d37",
   "metadata": {},
   "outputs": [
    {
     "name": "stdout",
     "output_type": "stream",
     "text": [
      "ham\n",
      "spam\n",
      "spam\n"
     ]
    }
   ],
   "source": [
    "spam = 0        # block1\n",
    "if spam == 10:\n",
    "    print('eggs')\n",
    "if spam > 5:    # block2\n",
    "    print('bacon')\n",
    "else:           #block 3\n",
    "    print('ham')\n",
    "print('spam')   # block1\n",
    "print('spam')"
   ]
  },
  {
   "cell_type": "code",
   "execution_count": 4,
   "id": "c013d117",
   "metadata": {},
   "outputs": [
    {
     "name": "stdout",
     "output_type": "stream",
     "text": [
      "Hello\n",
      "Howdy\n",
      "Greetings\n"
     ]
    }
   ],
   "source": [
    "#8. Write code that prints Hello if 1 is stored in spam, prints Howdy if 2 is stored in spam, and prints Greetings! if anything else is stored in spam.\n",
    "\n",
    "def fun(spam):\n",
    "    if spam==1:\n",
    "        print(\"Hello\")\n",
    "    elif spam==2:\n",
    "        print(\"Howdy\")\n",
    "    else:\n",
    "        print(\"Greetings\")\n",
    "    \n",
    "fun(1)\n",
    "fun(2)\n",
    "fun(3)\n",
    "    "
   ]
  },
  {
   "cell_type": "code",
   "execution_count": null,
   "id": "135fa5bb",
   "metadata": {},
   "outputs": [],
   "source": [
    "9.If your programme is stuck in an endless loop, what keys you’ll press?\n",
    "\n",
    "An infinite loop is a loop that runs indefinitely and it only stops with external intervention or when a break statement is found. You can stop an infinite loop with CTRL + C ."
   ]
  },
  {
   "cell_type": "code",
   "execution_count": null,
   "id": "f15806b0",
   "metadata": {},
   "outputs": [],
   "source": [
    "10. How can you tell the difference between break and continue?\n",
    "The break statement will move the execution outside the loop if break condtion is satisfied.Whereas the continue statement will move the execution to the start of the loop.. "
   ]
  },
  {
   "cell_type": "code",
   "execution_count": null,
   "id": "22240895",
   "metadata": {},
   "outputs": [],
   "source": [
    "11. In a for loop, what is the difference between range(10), range(0, 10), and range(0, 10, 1)?\n",
    "\n",
    "range(10)  - a sequence of numbers from 0 to 9 by default the sequence starts from 0 \n",
    "\n",
    "range(0, 10) - a sequence of numbers from 0 to 9,but here it  explicitely tells to start from 0\n",
    "range(0, 10, 1) - a sequence of numbers from 0 to 9,but increment by 1 \n"
   ]
  },
  {
   "cell_type": "code",
   "execution_count": 6,
   "id": "c167665a",
   "metadata": {},
   "outputs": [
    {
     "name": "stdout",
     "output_type": "stream",
     "text": [
      "using for loop \n",
      "\n",
      "1\n",
      "2\n",
      "3\n",
      "4\n",
      "5\n",
      "6\n",
      "7\n",
      "8\n",
      "9\n",
      "10\n",
      "\n",
      " using while loop\n",
      "\n",
      "1\n",
      "2\n",
      "3\n",
      "4\n",
      "5\n",
      "6\n",
      "7\n",
      "8\n",
      "9\n",
      "10\n"
     ]
    }
   ],
   "source": [
    "#12. Write a short program that prints the numbers 1 to 10 using a for loop. Then write an equivalent program that prints the numbers 1 to 10 using a while loop.\n",
    "\n",
    "print ('using for loop \\n')\n",
    "for i in range(1,11):\n",
    "    print(i)\n",
    "print('\\n using while loop\\n' )\n",
    "i=1\n",
    "while i<=10:\n",
    "    print(i)\n",
    "    i+=1\n"
   ]
  },
  {
   "cell_type": "code",
   "execution_count": null,
   "id": "6c2b671f",
   "metadata": {},
   "outputs": [],
   "source": [
    "13. If you had a function named bacon() inside a module named spam, how would you call it after importing spam?\n",
    "\n",
    "spam.bacon()"
   ]
  },
  {
   "cell_type": "code",
   "execution_count": null,
   "id": "5feae8f2",
   "metadata": {},
   "outputs": [],
   "source": [
    "\n",
    "\n",
    "\n",
    "\n",
    "\n",
    "\n",
    "\n",
    "\n"
   ]
  },
  {
   "cell_type": "code",
   "execution_count": null,
   "id": "2537e0c6",
   "metadata": {},
   "outputs": [],
   "source": []
  },
  {
   "cell_type": "code",
   "execution_count": null,
   "id": "ad188e52",
   "metadata": {},
   "outputs": [],
   "source": []
  },
  {
   "cell_type": "code",
   "execution_count": null,
   "id": "d0c02b7f",
   "metadata": {},
   "outputs": [],
   "source": []
  },
  {
   "cell_type": "code",
   "execution_count": null,
   "id": "d46d44ac",
   "metadata": {},
   "outputs": [],
   "source": []
  },
  {
   "cell_type": "code",
   "execution_count": null,
   "id": "225f3405",
   "metadata": {},
   "outputs": [],
   "source": []
  }
 ],
 "metadata": {
  "kernelspec": {
   "display_name": "Python 3 (ipykernel)",
   "language": "python",
   "name": "python3"
  },
  "language_info": {
   "codemirror_mode": {
    "name": "ipython",
    "version": 3
   },
   "file_extension": ".py",
   "mimetype": "text/x-python",
   "name": "python",
   "nbconvert_exporter": "python",
   "pygments_lexer": "ipython3",
   "version": "3.9.13"
  }
 },
 "nbformat": 4,
 "nbformat_minor": 5
}
