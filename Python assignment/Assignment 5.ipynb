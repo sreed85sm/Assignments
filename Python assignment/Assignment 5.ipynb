{
 "cells": [
  {
   "cell_type": "markdown",
   "id": "4ec47c0b",
   "metadata": {},
   "source": [
    "\n",
    "### Assignment 5"
   ]
  },
  {
   "cell_type": "code",
   "execution_count": null,
   "id": "0a8e38aa",
   "metadata": {},
   "outputs": [],
   "source": [
    "1. What does an empty dictionary's code look like?\n",
    "\n",
    "An empty pair of curly braces {} is an empty dictionary\n",
    "dict1={}\n",
    "\n",
    "2. What is the value of a dictionary value with the key 'foo'; and the value 42?\n",
    "dict1={'foo':42} so  \n",
    "dict1 will be \n",
    "\n",
    "{'foo': 42}\n",
    "\n",
    "3.What is the most significant distinction between a dictionary and a list?\n",
    "List refers to the collection of index value pair.Dictionary refers to the hashed structure of various pairs like key-value pairs\n",
    "Lists need not be homogeneous always. A single list may contain DataTypes like Integers, Strings, as well as Objects.\n",
    "Lists are mutable, and hence, they can be altered even after their creation.List is ordered,and allows duplicate values.\n",
    "List is initialized with [], and elements are separated by ','.Dictionary is created by placing elements in {}, data is added as key-value pair, and each pair is separated by ','.\n",
    "List values can be accessed by numeric indexes.Dictionary items can be accessed by using key values. Key values can be of any data type.\n",
    "In a dictionary, the dictionary is unordered and mutable, but the dictionary doesn't allow duplicate values with the same key in it.\n",
    "\n",
    "\n",
    "4. What happens if you try to access spam['foo'] if spam is {'bar': 100}?\n",
    "We get a KeyError \n",
    "\n",
    "5. If a dictionary is stored in spam, what is the difference between the expressions 'cat' in spam and\n",
    "'cat' in spam.keys()?\n",
    "\n",
    "'cat' in spam checks whether there is a key 'cat' in spam and return True \n",
    "'cat' in spam.keys() checks whether there is any key named 'cat' in spam and return True\n",
    "\n",
    "6. If a dictionary is stored in spam, what is the difference between the expressions 'cat' in spam and\n",
    "'cat' in spam.values()?\n",
    " whether there is a value 'cat' in one of the keys in spam and return False\n"
   ]
  },
  {
   "cell_type": "code",
   "execution_count": 26,
   "id": "76537c0f",
   "metadata": {},
   "outputs": [
    {
     "name": "stdout",
     "output_type": "stream",
     "text": [
      "True\n",
      "True\n",
      "False\n"
     ]
    }
   ],
   "source": [
    "spam={'cat':2}\n",
    "print('cat' in spam)   #True\n",
    "print('cat' in spam.keys())  #True\n",
    "print('cat' in spam.values())  # False\n"
   ]
  },
  {
   "cell_type": "code",
   "execution_count": null,
   "id": "112b1d83",
   "metadata": {},
   "outputs": [],
   "source": [
    "7. What is a shortcut for the following code?\n",
    "if 'color' not in spam:\n",
    "    spam['color'] = 'black'\n",
    "    \n",
    "spam.setdefault('color','black')   "
   ]
  },
  {
   "cell_type": "code",
   "execution_count": 27,
   "id": "c8f0d3e0",
   "metadata": {},
   "outputs": [
    {
     "data": {
      "text/plain": [
       "'black'"
      ]
     },
     "execution_count": 27,
     "metadata": {},
     "output_type": "execute_result"
    }
   ],
   "source": [
    "spam.setdefault('color','black')"
   ]
  },
  {
   "cell_type": "code",
   "execution_count": 28,
   "id": "33b36e4c",
   "metadata": {},
   "outputs": [
    {
     "data": {
      "text/plain": [
       "{'cat': 2, 'color': 'black'}"
      ]
     },
     "execution_count": 28,
     "metadata": {},
     "output_type": "execute_result"
    }
   ],
   "source": [
    "spam"
   ]
  },
  {
   "cell_type": "code",
   "execution_count": null,
   "id": "7a1ba23b",
   "metadata": {},
   "outputs": [],
   "source": [
    "8. How do you \"pretty print\"; dictionary values using which module and function?\n",
    "pprint module provides a capability to “pretty-print” arbitrary Python data structures  in a well-formatted and more readable way.\n",
    "and  use pprint() function rather than the print function."
   ]
  },
  {
   "cell_type": "code",
   "execution_count": 31,
   "id": "178cfb53",
   "metadata": {},
   "outputs": [
    {
     "name": "stdout",
     "output_type": "stream",
     "text": [
      "{'cat': 2, 'color': 'black'}\n"
     ]
    }
   ],
   "source": [
    "import pprint\n",
    "pprint.pprint(spam)"
   ]
  },
  {
   "cell_type": "code",
   "execution_count": null,
   "id": "369ac6fc",
   "metadata": {},
   "outputs": [],
   "source": []
  }
 ],
 "metadata": {
  "kernelspec": {
   "display_name": "Python 3 (ipykernel)",
   "language": "python",
   "name": "python3"
  },
  "language_info": {
   "codemirror_mode": {
    "name": "ipython",
    "version": 3
   },
   "file_extension": ".py",
   "mimetype": "text/x-python",
   "name": "python",
   "nbconvert_exporter": "python",
   "pygments_lexer": "ipython3",
   "version": "3.9.13"
  }
 },
 "nbformat": 4,
 "nbformat_minor": 5
}
