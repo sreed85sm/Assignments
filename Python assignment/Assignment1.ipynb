{
 "cells": [
  {
   "cell_type": "code",
   "execution_count": null,
   "id": "8a39c428",
   "metadata": {},
   "outputs": [],
   "source": [
    "1. In the below elements which of them are values or an expression? eg:- values can be integer or string and expressions will be mathematical operators.\n",
    "\n",
    "*  expression\n",
    "'hello' value\n",
    "-87.8 value\n",
    "- expression\n",
    "/ expression\n",
    "+ expression\n",
    "6 value\n",
    "\n",
    "2. What is the difference between string and variable?\n",
    "Variables are symbols that you can use to store data in a program.  Strings are data, so we can use them to fill up a variable.  To create a string, put the sequence of characters inside either single quote, or  double quotes, and then assign it to a variable. \n",
    "3. Describe three different data types.\n",
    "•\tNumeric data types: int, float, complex\n",
    "•\tString data types: str\n",
    "•\tSequence types: list, tuple, range\n",
    "•\tBinary types: bytes, bytearray, memoryview\n",
    "•\tMapping data type: dict\n",
    "•\tBoolean type: bool\n",
    "•\tSet data types: set, frozenset\n",
    "\n",
    "4. What is an expression made up of? What do all expressions do?\n",
    "An expression is a combination of values (or variables, operators, calls to functions  which evaluates to a value, e.g., 1 + 2. Expressions need to be evaluated. If we ask Python to print an expression, the interpreter evaluates the expression and displays the result.\n",
    "\n",
    "5. This assignment statements, like spam = 10. What is the difference between an expression and a statement?\n",
    "                                          \n",
    "Expressions need to be evaluated. If we ask Python to print an expression, the interpreter evaluates the expression and displays the result.\n",
    "A Statement is the smallest executable unit of code that has an effect, like creating a variable or displaying a value. Each and every line of code that we write in any programming language is called a statement.Any Instruction that a python interpreter can execute (carry out) is called a Statement.\n",
    "\n"
   ]
  },
  {
   "cell_type": "code",
   "execution_count": null,
   "id": "0e3a134e",
   "metadata": {},
   "outputs": [],
   "source": [
    "6. After running the following code, what does the variable bacon contain?\n",
    "\n",
    "bacon = 22\n",
    "bacon + 1\n",
    "output will be 23 but the variable bacon contains 22. The expression does not reassign the value in bacon .\n"
   ]
  },
  {
   "cell_type": "code",
   "execution_count": 2,
   "id": "644b4247",
   "metadata": {},
   "outputs": [
    {
     "data": {
      "text/plain": [
       "23"
      ]
     },
     "execution_count": 2,
     "metadata": {},
     "output_type": "execute_result"
    }
   ],
   "source": [
    "bacon = 22\n",
    "bacon + 1\n"
   ]
  },
  {
   "cell_type": "code",
   "execution_count": 3,
   "id": "fbe1f840",
   "metadata": {},
   "outputs": [
    {
     "data": {
      "text/plain": [
       "22"
      ]
     },
     "execution_count": 3,
     "metadata": {},
     "output_type": "execute_result"
    }
   ],
   "source": [
    "bacon"
   ]
  },
  {
   "cell_type": "code",
   "execution_count": null,
   "id": "49510ef8",
   "metadata": {},
   "outputs": [],
   "source": [
    "7. What should the values of the following two terms be?\n",
    "\n",
    "'spam' + 'spamspam'    : This is string concatenation ,so output will be   spamspamspam\n",
    "'spam' * 3             :This is string multiplication , so output will be   spamspamspam\n"
   ]
  },
  {
   "cell_type": "code",
   "execution_count": 4,
   "id": "4b77e02b",
   "metadata": {},
   "outputs": [
    {
     "data": {
      "text/plain": [
       "'spamspamspam'"
      ]
     },
     "execution_count": 4,
     "metadata": {},
     "output_type": "execute_result"
    }
   ],
   "source": [
    "'spam' + 'spamspam' "
   ]
  },
  {
   "cell_type": "code",
   "execution_count": 5,
   "id": "e7314cde",
   "metadata": {},
   "outputs": [
    {
     "data": {
      "text/plain": [
       "'spamspamspam'"
      ]
     },
     "execution_count": 5,
     "metadata": {},
     "output_type": "execute_result"
    }
   ],
   "source": [
    "'spam' * 3 "
   ]
  },
  {
   "cell_type": "code",
   "execution_count": null,
   "id": "a3144325",
   "metadata": {},
   "outputs": [],
   "source": [
    "8. Why is eggs a valid variable name while 100 is invalid?\n",
    "Rules for Python variables:\n",
    "•\tA variable name must start with a letter or the underscore character\n",
    "•\tA variable name cannot start with a number\n",
    "•\tA variable name can only contain alpha-numeric characters and underscores (A-z, 0-9, and _ )\n",
    "•\tVariable names are case-sensitive (age, Age and AGE are three different variables)\n"
   ]
  },
  {
   "cell_type": "code",
   "execution_count": null,
   "id": "6aee31e1",
   "metadata": {},
   "outputs": [],
   "source": [
    "9. What three functions can be used to get the integer, floating-point number, or string version of a value?\n",
    " The int(),float(),and str() functions will evaluate to the integer,floating-point number,string version of the value passed to them.\n"
   ]
  },
  {
   "cell_type": "code",
   "execution_count": 6,
   "id": "594ae709",
   "metadata": {},
   "outputs": [
    {
     "name": "stdout",
     "output_type": "stream",
     "text": [
      "int(50.0) ->  50\n",
      "float(50) ->  50.0\n",
      "str(50) ->  50\n"
     ]
    }
   ],
   "source": [
    "print('int(50.0) -> ',int(50.0)) # int() function converts given input to int\n",
    "print('float(50) -> ',float(50)) # float() function converts given input to float\n",
    "print('str(50) -> ',str(50)) # str() function converts given input to string"
   ]
  },
  {
   "cell_type": "code",
   "execution_count": null,
   "id": "33b3d03c",
   "metadata": {},
   "outputs": [],
   "source": [
    "10. Why does this expression cause an error? How can you fix it? \n",
    "'I have eaten ' + 99 + ' burritos.'\n",
    "\n",
    "Concatenation can only takeplace with string here integer value 99 is used. We can fix it by typecasting.\n",
    "'I have eaten ' + str(99) + ' burritos.'\n"
   ]
  },
  {
   "cell_type": "code",
   "execution_count": 10,
   "id": "20c9d39d",
   "metadata": {},
   "outputs": [
    {
     "data": {
      "text/plain": [
       "'I have eaten 99 burritos.'"
      ]
     },
     "execution_count": 10,
     "metadata": {},
     "output_type": "execute_result"
    }
   ],
   "source": [
    "'I have eaten ' + str(99) + ' burritos.'"
   ]
  }
 ],
 "metadata": {
  "kernelspec": {
   "display_name": "Python 3 (ipykernel)",
   "language": "python",
   "name": "python3"
  },
  "language_info": {
   "codemirror_mode": {
    "name": "ipython",
    "version": 3
   },
   "file_extension": ".py",
   "mimetype": "text/x-python",
   "name": "python",
   "nbconvert_exporter": "python",
   "pygments_lexer": "ipython3",
   "version": "3.9.13"
  }
 },
 "nbformat": 4,
 "nbformat_minor": 5
}
